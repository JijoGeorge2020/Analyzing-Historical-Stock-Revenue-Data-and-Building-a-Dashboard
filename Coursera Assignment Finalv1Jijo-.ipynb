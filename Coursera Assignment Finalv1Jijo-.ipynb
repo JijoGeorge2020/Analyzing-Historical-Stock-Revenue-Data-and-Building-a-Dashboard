{
 "cells": [
  {
   "cell_type": "markdown",
   "id": "1690e673-9adc-4674-b968-a6f8d9e10e69",
   "metadata": {},
   "source": [
    "## 1 - Extracting Tesla Stock Data Using yfinance"
   ]
  },
  {
   "cell_type": "code",
   "execution_count": 41,
   "id": "ee3484e5-253b-4772-a5f7-b6a380038b3c",
   "metadata": {},
   "outputs": [],
   "source": [
    "import yfinance as yf\n",
    "import pandas as pd\n",
    "import requests\n",
    "from bs4 import BeautifulSoup\n",
    "import plotly.graph_objects as go\n",
    "from plotly.subplots import make_subplots"
   ]
  },
  {
   "cell_type": "code",
   "execution_count": 42,
   "id": "c6000c35-3458-4111-a560-da0fa5abcda0",
   "metadata": {},
   "outputs": [],
   "source": [
    "tesla= yf.Ticker(\"TSLA\")\n",
    "tesla_data = tesla.history(period='5Y')"
   ]
  },
  {
   "cell_type": "code",
   "execution_count": 46,
   "id": "6febbd21-bf24-4454-8702-07f26eb59e82",
   "metadata": {},
   "outputs": [
    {
     "data": {
      "text/html": [
       "<div>\n",
       "<style scoped>\n",
       "    .dataframe tbody tr th:only-of-type {\n",
       "        vertical-align: middle;\n",
       "    }\n",
       "\n",
       "    .dataframe tbody tr th {\n",
       "        vertical-align: top;\n",
       "    }\n",
       "\n",
       "    .dataframe thead th {\n",
       "        text-align: right;\n",
       "    }\n",
       "</style>\n",
       "<table border=\"1\" class=\"dataframe\">\n",
       "  <thead>\n",
       "    <tr style=\"text-align: right;\">\n",
       "      <th></th>\n",
       "      <th>Open</th>\n",
       "      <th>High</th>\n",
       "      <th>Low</th>\n",
       "      <th>Close</th>\n",
       "      <th>Volume</th>\n",
       "      <th>Dividends</th>\n",
       "      <th>Stock Splits</th>\n",
       "    </tr>\n",
       "    <tr>\n",
       "      <th>Date</th>\n",
       "      <th></th>\n",
       "      <th></th>\n",
       "      <th></th>\n",
       "      <th></th>\n",
       "      <th></th>\n",
       "      <th></th>\n",
       "      <th></th>\n",
       "    </tr>\n",
       "  </thead>\n",
       "  <tbody>\n",
       "    <tr>\n",
       "      <th>2019-04-29 00:00:00-04:00</th>\n",
       "      <td>15.724000</td>\n",
       "      <td>16.265333</td>\n",
       "      <td>15.478000</td>\n",
       "      <td>16.098000</td>\n",
       "      <td>250717500</td>\n",
       "      <td>0.0</td>\n",
       "      <td>0.0</td>\n",
       "    </tr>\n",
       "    <tr>\n",
       "      <th>2019-04-30 00:00:00-04:00</th>\n",
       "      <td>16.137333</td>\n",
       "      <td>16.280666</td>\n",
       "      <td>15.800000</td>\n",
       "      <td>15.912667</td>\n",
       "      <td>141969000</td>\n",
       "      <td>0.0</td>\n",
       "      <td>0.0</td>\n",
       "    </tr>\n",
       "    <tr>\n",
       "      <th>2019-05-01 00:00:00-04:00</th>\n",
       "      <td>15.923333</td>\n",
       "      <td>16.000000</td>\n",
       "      <td>15.433333</td>\n",
       "      <td>15.600667</td>\n",
       "      <td>160566000</td>\n",
       "      <td>0.0</td>\n",
       "      <td>0.0</td>\n",
       "    </tr>\n",
       "    <tr>\n",
       "      <th>2019-05-02 00:00:00-04:00</th>\n",
       "      <td>16.368000</td>\n",
       "      <td>16.475332</td>\n",
       "      <td>15.848000</td>\n",
       "      <td>16.273333</td>\n",
       "      <td>272389500</td>\n",
       "      <td>0.0</td>\n",
       "      <td>0.0</td>\n",
       "    </tr>\n",
       "    <tr>\n",
       "      <th>2019-05-03 00:00:00-04:00</th>\n",
       "      <td>16.257334</td>\n",
       "      <td>17.107332</td>\n",
       "      <td>16.232668</td>\n",
       "      <td>17.002001</td>\n",
       "      <td>355602000</td>\n",
       "      <td>0.0</td>\n",
       "      <td>0.0</td>\n",
       "    </tr>\n",
       "  </tbody>\n",
       "</table>\n",
       "</div>"
      ],
      "text/plain": [
       "                                Open       High        Low      Close  \\\n",
       "Date                                                                    \n",
       "2019-04-29 00:00:00-04:00  15.724000  16.265333  15.478000  16.098000   \n",
       "2019-04-30 00:00:00-04:00  16.137333  16.280666  15.800000  15.912667   \n",
       "2019-05-01 00:00:00-04:00  15.923333  16.000000  15.433333  15.600667   \n",
       "2019-05-02 00:00:00-04:00  16.368000  16.475332  15.848000  16.273333   \n",
       "2019-05-03 00:00:00-04:00  16.257334  17.107332  16.232668  17.002001   \n",
       "\n",
       "                              Volume  Dividends  Stock Splits  \n",
       "Date                                                           \n",
       "2019-04-29 00:00:00-04:00  250717500        0.0           0.0  \n",
       "2019-04-30 00:00:00-04:00  141969000        0.0           0.0  \n",
       "2019-05-01 00:00:00-04:00  160566000        0.0           0.0  \n",
       "2019-05-02 00:00:00-04:00  272389500        0.0           0.0  \n",
       "2019-05-03 00:00:00-04:00  355602000        0.0           0.0  "
      ]
     },
     "execution_count": 46,
     "metadata": {},
     "output_type": "execute_result"
    }
   ],
   "source": [
    "tesla_data.head()"
   ]
  },
  {
   "cell_type": "markdown",
   "id": "cf302ab6-2267-4fa9-a18e-e38db5c68c8b",
   "metadata": {},
   "source": [
    "## 2 - Extracting Tesla Revenue Data Using Webscraping "
   ]
  },
  {
   "cell_type": "code",
   "execution_count": 47,
   "id": "a1b3da33-fe01-428b-a87b-e4e4e43d93ba",
   "metadata": {},
   "outputs": [
    {
     "data": {
      "text/html": [
       "<div>\n",
       "<style scoped>\n",
       "    .dataframe tbody tr th:only-of-type {\n",
       "        vertical-align: middle;\n",
       "    }\n",
       "\n",
       "    .dataframe tbody tr th {\n",
       "        vertical-align: top;\n",
       "    }\n",
       "\n",
       "    .dataframe thead th {\n",
       "        text-align: right;\n",
       "    }\n",
       "</style>\n",
       "<table border=\"1\" class=\"dataframe\">\n",
       "  <thead>\n",
       "    <tr style=\"text-align: right;\">\n",
       "      <th></th>\n",
       "      <th>Date</th>\n",
       "      <th>Revenue</th>\n",
       "    </tr>\n",
       "  </thead>\n",
       "  <tbody>\n",
       "    <tr>\n",
       "      <th>49</th>\n",
       "      <td>2010-06-30</td>\n",
       "      <td>$28</td>\n",
       "    </tr>\n",
       "    <tr>\n",
       "      <th>50</th>\n",
       "      <td>2010-03-31</td>\n",
       "      <td>$21</td>\n",
       "    </tr>\n",
       "    <tr>\n",
       "      <th>51</th>\n",
       "      <td>2009-12-31</td>\n",
       "      <td>NaN</td>\n",
       "    </tr>\n",
       "    <tr>\n",
       "      <th>52</th>\n",
       "      <td>2009-09-30</td>\n",
       "      <td>$46</td>\n",
       "    </tr>\n",
       "    <tr>\n",
       "      <th>53</th>\n",
       "      <td>2009-06-30</td>\n",
       "      <td>$27</td>\n",
       "    </tr>\n",
       "  </tbody>\n",
       "</table>\n",
       "</div>"
      ],
      "text/plain": [
       "          Date Revenue\n",
       "49  2010-06-30     $28\n",
       "50  2010-03-31     $21\n",
       "51  2009-12-31     NaN\n",
       "52  2009-09-30     $46\n",
       "53  2009-06-30     $27"
      ]
     },
     "execution_count": 47,
     "metadata": {},
     "output_type": "execute_result"
    }
   ],
   "source": [
    "url = 'https://cf-courses-data.s3.us.cloud-object-storage.appdomain.cloud/IBMDeveloperSkillsNetwork-PY0220EN-SkillsNetwork/labs/project/revenue.htm'\n",
    "import pandas as pd\n",
    "tesla_revenue = pd.read_html(url)[1]\n",
    "tesla_revenue1 = tesla_revenue.rename(columns={'Tesla Quarterly Revenue (Millions of US $)': 'Date', 'Tesla Quarterly Revenue (Millions of US $).1': 'Revenue'})\n",
    "tesla_revenue1.tail()"
   ]
  },
  {
   "cell_type": "markdown",
   "id": "e58c7133-df43-4fbe-a207-bae6d59d1834",
   "metadata": {},
   "source": [
    "## 3 - Extracting GameStop Stock Data Using yfinance - 2 Points"
   ]
  },
  {
   "cell_type": "code",
   "execution_count": 35,
   "id": "f66af67f-052b-4316-900d-3a16f33e3145",
   "metadata": {},
   "outputs": [],
   "source": [
    "GameStop= yf.Ticker(\"GME\")\n",
    "GameStop_data = GameStop.history(period='5Y')"
   ]
  },
  {
   "cell_type": "code",
   "execution_count": 48,
   "id": "cccfcf82-f8d9-4bad-9d6a-12bae1112420",
   "metadata": {},
   "outputs": [
    {
     "data": {
      "text/html": [
       "<div>\n",
       "<style scoped>\n",
       "    .dataframe tbody tr th:only-of-type {\n",
       "        vertical-align: middle;\n",
       "    }\n",
       "\n",
       "    .dataframe tbody tr th {\n",
       "        vertical-align: top;\n",
       "    }\n",
       "\n",
       "    .dataframe thead th {\n",
       "        text-align: right;\n",
       "    }\n",
       "</style>\n",
       "<table border=\"1\" class=\"dataframe\">\n",
       "  <thead>\n",
       "    <tr style=\"text-align: right;\">\n",
       "      <th></th>\n",
       "      <th>Open</th>\n",
       "      <th>High</th>\n",
       "      <th>Low</th>\n",
       "      <th>Close</th>\n",
       "      <th>Volume</th>\n",
       "      <th>Dividends</th>\n",
       "      <th>Stock Splits</th>\n",
       "    </tr>\n",
       "    <tr>\n",
       "      <th>Date</th>\n",
       "      <th></th>\n",
       "      <th></th>\n",
       "      <th></th>\n",
       "      <th></th>\n",
       "      <th></th>\n",
       "      <th></th>\n",
       "      <th></th>\n",
       "    </tr>\n",
       "  </thead>\n",
       "  <tbody>\n",
       "    <tr>\n",
       "      <th>2019-04-29 00:00:00-04:00</th>\n",
       "      <td>2.2225</td>\n",
       "      <td>2.2250</td>\n",
       "      <td>2.1775</td>\n",
       "      <td>2.1900</td>\n",
       "      <td>10192400</td>\n",
       "      <td>0.0</td>\n",
       "      <td>0.0</td>\n",
       "    </tr>\n",
       "    <tr>\n",
       "      <th>2019-04-30 00:00:00-04:00</th>\n",
       "      <td>2.2000</td>\n",
       "      <td>2.2125</td>\n",
       "      <td>2.1625</td>\n",
       "      <td>2.1625</td>\n",
       "      <td>12830800</td>\n",
       "      <td>0.0</td>\n",
       "      <td>0.0</td>\n",
       "    </tr>\n",
       "    <tr>\n",
       "      <th>2019-05-01 00:00:00-04:00</th>\n",
       "      <td>2.1650</td>\n",
       "      <td>2.1975</td>\n",
       "      <td>2.1175</td>\n",
       "      <td>2.1275</td>\n",
       "      <td>14155600</td>\n",
       "      <td>0.0</td>\n",
       "      <td>0.0</td>\n",
       "    </tr>\n",
       "    <tr>\n",
       "      <th>2019-05-02 00:00:00-04:00</th>\n",
       "      <td>2.1275</td>\n",
       "      <td>2.2075</td>\n",
       "      <td>2.1275</td>\n",
       "      <td>2.1925</td>\n",
       "      <td>12467600</td>\n",
       "      <td>0.0</td>\n",
       "      <td>0.0</td>\n",
       "    </tr>\n",
       "    <tr>\n",
       "      <th>2019-05-03 00:00:00-04:00</th>\n",
       "      <td>2.2025</td>\n",
       "      <td>2.2475</td>\n",
       "      <td>2.1925</td>\n",
       "      <td>2.2425</td>\n",
       "      <td>8718400</td>\n",
       "      <td>0.0</td>\n",
       "      <td>0.0</td>\n",
       "    </tr>\n",
       "  </tbody>\n",
       "</table>\n",
       "</div>"
      ],
      "text/plain": [
       "                             Open    High     Low   Close    Volume  \\\n",
       "Date                                                                  \n",
       "2019-04-29 00:00:00-04:00  2.2225  2.2250  2.1775  2.1900  10192400   \n",
       "2019-04-30 00:00:00-04:00  2.2000  2.2125  2.1625  2.1625  12830800   \n",
       "2019-05-01 00:00:00-04:00  2.1650  2.1975  2.1175  2.1275  14155600   \n",
       "2019-05-02 00:00:00-04:00  2.1275  2.2075  2.1275  2.1925  12467600   \n",
       "2019-05-03 00:00:00-04:00  2.2025  2.2475  2.1925  2.2425   8718400   \n",
       "\n",
       "                           Dividends  Stock Splits  \n",
       "Date                                                \n",
       "2019-04-29 00:00:00-04:00        0.0           0.0  \n",
       "2019-04-30 00:00:00-04:00        0.0           0.0  \n",
       "2019-05-01 00:00:00-04:00        0.0           0.0  \n",
       "2019-05-02 00:00:00-04:00        0.0           0.0  \n",
       "2019-05-03 00:00:00-04:00        0.0           0.0  "
      ]
     },
     "execution_count": 48,
     "metadata": {},
     "output_type": "execute_result"
    }
   ],
   "source": [
    "GameStop_data.head()"
   ]
  },
  {
   "cell_type": "code",
   "execution_count": null,
   "id": "54105252-846f-4063-85b8-1654200a9502",
   "metadata": {},
   "outputs": [],
   "source": []
  },
  {
   "cell_type": "markdown",
   "id": "b4e7a792-7b51-48ac-9e97-04a8aefe63ee",
   "metadata": {},
   "source": [
    "## 4 - Extracting GameStop Revenue Data Using Webscraping"
   ]
  },
  {
   "cell_type": "code",
   "execution_count": 12,
   "id": "78e17e41-9606-44a8-b4bf-e64d5a54957c",
   "metadata": {},
   "outputs": [],
   "source": [
    "url = 'https://cf-courses-data.s3.us.cloud-object-storage.appdomain.cloud/IBMDeveloperSkillsNetwork-PY0220EN-SkillsNetwork/labs/project/stock.html'\n",
    "\n",
    "gme_revenue = pd.read_html(url)[1]\n",
    "\n",
    "gme_revenue1 = gme_revenue.rename(columns={'GameStop Quarterly Revenue (Millions of US $)': 'Date', 'GameStop Quarterly Revenue (Millions of US $).1': 'Revenue'})"
   ]
  },
  {
   "cell_type": "code",
   "execution_count": 49,
   "id": "808b7091-d871-48e6-8039-073ee9faad2c",
   "metadata": {},
   "outputs": [
    {
     "data": {
      "text/html": [
       "<div>\n",
       "<style scoped>\n",
       "    .dataframe tbody tr th:only-of-type {\n",
       "        vertical-align: middle;\n",
       "    }\n",
       "\n",
       "    .dataframe tbody tr th {\n",
       "        vertical-align: top;\n",
       "    }\n",
       "\n",
       "    .dataframe thead th {\n",
       "        text-align: right;\n",
       "    }\n",
       "</style>\n",
       "<table border=\"1\" class=\"dataframe\">\n",
       "  <thead>\n",
       "    <tr style=\"text-align: right;\">\n",
       "      <th></th>\n",
       "      <th>Date</th>\n",
       "      <th>Revenue</th>\n",
       "    </tr>\n",
       "  </thead>\n",
       "  <tbody>\n",
       "    <tr>\n",
       "      <th>57</th>\n",
       "      <td>2006-01-31</td>\n",
       "      <td>1667</td>\n",
       "    </tr>\n",
       "    <tr>\n",
       "      <th>58</th>\n",
       "      <td>2005-10-31</td>\n",
       "      <td>534</td>\n",
       "    </tr>\n",
       "    <tr>\n",
       "      <th>59</th>\n",
       "      <td>2005-07-31</td>\n",
       "      <td>416</td>\n",
       "    </tr>\n",
       "    <tr>\n",
       "      <th>60</th>\n",
       "      <td>2005-04-30</td>\n",
       "      <td>475</td>\n",
       "    </tr>\n",
       "    <tr>\n",
       "      <th>61</th>\n",
       "      <td>2005-01-31</td>\n",
       "      <td>709</td>\n",
       "    </tr>\n",
       "  </tbody>\n",
       "</table>\n",
       "</div>"
      ],
      "text/plain": [
       "          Date  Revenue\n",
       "57  2006-01-31     1667\n",
       "58  2005-10-31      534\n",
       "59  2005-07-31      416\n",
       "60  2005-04-30      475\n",
       "61  2005-01-31      709"
      ]
     },
     "execution_count": 49,
     "metadata": {},
     "output_type": "execute_result"
    }
   ],
   "source": [
    "gme_revenue1.tail()"
   ]
  },
  {
   "cell_type": "markdown",
   "id": "63ef9a3a-2aa8-4c20-b07d-332c2ac7cccb",
   "metadata": {},
   "source": [
    "## 5 - Tesla Stock and Revenue Dashboard"
   ]
  },
  {
   "cell_type": "markdown",
   "id": "da9a6923-6d59-4c7e-8304-8e3eae37e96d",
   "metadata": {},
   "source": [
    "### Tesla stock price movement"
   ]
  },
  {
   "cell_type": "code",
   "execution_count": 9,
   "id": "8f356145-db19-4dbc-b69a-f22829c44ad6",
   "metadata": {},
   "outputs": [
    {
     "data": {
      "text/plain": [
       "<Axes: xlabel='Date'>"
      ]
     },
     "execution_count": 9,
     "metadata": {},
     "output_type": "execute_result"
    },
    {
     "data": {
      "image/png": "[encoded data removed]",
      "text/plain": [
       "<Figure size 640x480 with 1 Axes>"
      ]
     },
     "metadata": {},
     "output_type": "display_data"
    }
   ],
   "source": [
    "tesla_data.Close.plot()"
   ]
  },
  {
   "cell_type": "code",
   "execution_count": 26,
   "id": "103e8176-8ae5-40f4-9a92-c7e8293b2668",
   "metadata": {},
   "outputs": [],
   "source": [
    "tesla_revenue1=tesla_revenue1.drop(51) #### To remove the NA value "
   ]
  },
  {
   "cell_type": "code",
   "execution_count": null,
   "id": "0cb29dbf-4a52-4207-b3aa-d3022351ea83",
   "metadata": {},
   "outputs": [],
   "source": [
    "tesla_revenue1['Revenue'] = tesla_revenue1['Revenue'].str.replace(',', '') ### reomve the ,\n",
    "tesla_revenue1['Revenue'] = tesla_revenue1['Revenue'].str.replace('$', '') ### reomve the $\n",
    "tesla_revenue1['Revenue'] = tesla_revenue1['Revenue'].astype(int)          ### convert to int\n",
    "tesla_revenue1['Date'] = pd.to_datetime(tesla_revenue1['Date'], infer_datetime_format=True)\n"
   ]
  },
  {
   "cell_type": "code",
   "execution_count": 28,
   "id": "7b65dc34-5685-4dd2-96c7-2bb213d379b4",
   "metadata": {},
   "outputs": [
    {
     "data": {
      "text/html": [
       "<div>\n",
       "<style scoped>\n",
       "    .dataframe tbody tr th:only-of-type {\n",
       "        vertical-align: middle;\n",
       "    }\n",
       "\n",
       "    .dataframe tbody tr th {\n",
       "        vertical-align: top;\n",
       "    }\n",
       "\n",
       "    .dataframe thead th {\n",
       "        text-align: right;\n",
       "    }\n",
       "</style>\n",
       "<table border=\"1\" class=\"dataframe\">\n",
       "  <thead>\n",
       "    <tr style=\"text-align: right;\">\n",
       "      <th></th>\n",
       "      <th>Date</th>\n",
       "      <th>Revenue</th>\n",
       "    </tr>\n",
       "  </thead>\n",
       "  <tbody>\n",
       "    <tr>\n",
       "      <th>0</th>\n",
       "      <td>2022-09-30</td>\n",
       "      <td>21454</td>\n",
       "    </tr>\n",
       "    <tr>\n",
       "      <th>1</th>\n",
       "      <td>2022-06-30</td>\n",
       "      <td>16934</td>\n",
       "    </tr>\n",
       "    <tr>\n",
       "      <th>2</th>\n",
       "      <td>2022-03-31</td>\n",
       "      <td>18756</td>\n",
       "    </tr>\n",
       "    <tr>\n",
       "      <th>3</th>\n",
       "      <td>2021-12-31</td>\n",
       "      <td>17719</td>\n",
       "    </tr>\n",
       "    <tr>\n",
       "      <th>4</th>\n",
       "      <td>2021-09-30</td>\n",
       "      <td>13757</td>\n",
       "    </tr>\n",
       "    <tr>\n",
       "      <th>5</th>\n",
       "      <td>2021-06-30</td>\n",
       "      <td>11958</td>\n",
       "    </tr>\n",
       "    <tr>\n",
       "      <th>6</th>\n",
       "      <td>2021-03-31</td>\n",
       "      <td>10389</td>\n",
       "    </tr>\n",
       "    <tr>\n",
       "      <th>7</th>\n",
       "      <td>2020-12-31</td>\n",
       "      <td>10744</td>\n",
       "    </tr>\n",
       "    <tr>\n",
       "      <th>8</th>\n",
       "      <td>2020-09-30</td>\n",
       "      <td>8771</td>\n",
       "    </tr>\n",
       "    <tr>\n",
       "      <th>9</th>\n",
       "      <td>2020-06-30</td>\n",
       "      <td>6036</td>\n",
       "    </tr>\n",
       "    <tr>\n",
       "      <th>10</th>\n",
       "      <td>2020-03-31</td>\n",
       "      <td>5985</td>\n",
       "    </tr>\n",
       "    <tr>\n",
       "      <th>11</th>\n",
       "      <td>2019-12-31</td>\n",
       "      <td>7384</td>\n",
       "    </tr>\n",
       "    <tr>\n",
       "      <th>12</th>\n",
       "      <td>2019-09-30</td>\n",
       "      <td>6303</td>\n",
       "    </tr>\n",
       "    <tr>\n",
       "      <th>13</th>\n",
       "      <td>2019-06-30</td>\n",
       "      <td>6350</td>\n",
       "    </tr>\n",
       "    <tr>\n",
       "      <th>14</th>\n",
       "      <td>2019-03-31</td>\n",
       "      <td>4541</td>\n",
       "    </tr>\n",
       "    <tr>\n",
       "      <th>15</th>\n",
       "      <td>2018-12-31</td>\n",
       "      <td>7226</td>\n",
       "    </tr>\n",
       "    <tr>\n",
       "      <th>16</th>\n",
       "      <td>2018-09-30</td>\n",
       "      <td>6824</td>\n",
       "    </tr>\n",
       "    <tr>\n",
       "      <th>17</th>\n",
       "      <td>2018-06-30</td>\n",
       "      <td>4002</td>\n",
       "    </tr>\n",
       "    <tr>\n",
       "      <th>18</th>\n",
       "      <td>2018-03-31</td>\n",
       "      <td>3409</td>\n",
       "    </tr>\n",
       "    <tr>\n",
       "      <th>19</th>\n",
       "      <td>2017-12-31</td>\n",
       "      <td>3288</td>\n",
       "    </tr>\n",
       "    <tr>\n",
       "      <th>20</th>\n",
       "      <td>2017-09-30</td>\n",
       "      <td>2985</td>\n",
       "    </tr>\n",
       "    <tr>\n",
       "      <th>21</th>\n",
       "      <td>2017-06-30</td>\n",
       "      <td>2790</td>\n",
       "    </tr>\n",
       "    <tr>\n",
       "      <th>22</th>\n",
       "      <td>2017-03-31</td>\n",
       "      <td>2696</td>\n",
       "    </tr>\n",
       "    <tr>\n",
       "      <th>23</th>\n",
       "      <td>2016-12-31</td>\n",
       "      <td>2285</td>\n",
       "    </tr>\n",
       "    <tr>\n",
       "      <th>24</th>\n",
       "      <td>2016-09-30</td>\n",
       "      <td>2298</td>\n",
       "    </tr>\n",
       "    <tr>\n",
       "      <th>25</th>\n",
       "      <td>2016-06-30</td>\n",
       "      <td>1270</td>\n",
       "    </tr>\n",
       "    <tr>\n",
       "      <th>26</th>\n",
       "      <td>2016-03-31</td>\n",
       "      <td>1147</td>\n",
       "    </tr>\n",
       "    <tr>\n",
       "      <th>27</th>\n",
       "      <td>2015-12-31</td>\n",
       "      <td>1214</td>\n",
       "    </tr>\n",
       "    <tr>\n",
       "      <th>28</th>\n",
       "      <td>2015-09-30</td>\n",
       "      <td>937</td>\n",
       "    </tr>\n",
       "    <tr>\n",
       "      <th>29</th>\n",
       "      <td>2015-06-30</td>\n",
       "      <td>955</td>\n",
       "    </tr>\n",
       "    <tr>\n",
       "      <th>30</th>\n",
       "      <td>2015-03-31</td>\n",
       "      <td>940</td>\n",
       "    </tr>\n",
       "    <tr>\n",
       "      <th>31</th>\n",
       "      <td>2014-12-31</td>\n",
       "      <td>957</td>\n",
       "    </tr>\n",
       "    <tr>\n",
       "      <th>32</th>\n",
       "      <td>2014-09-30</td>\n",
       "      <td>852</td>\n",
       "    </tr>\n",
       "    <tr>\n",
       "      <th>33</th>\n",
       "      <td>2014-06-30</td>\n",
       "      <td>769</td>\n",
       "    </tr>\n",
       "    <tr>\n",
       "      <th>34</th>\n",
       "      <td>2014-03-31</td>\n",
       "      <td>621</td>\n",
       "    </tr>\n",
       "    <tr>\n",
       "      <th>35</th>\n",
       "      <td>2013-12-31</td>\n",
       "      <td>615</td>\n",
       "    </tr>\n",
       "    <tr>\n",
       "      <th>36</th>\n",
       "      <td>2013-09-30</td>\n",
       "      <td>431</td>\n",
       "    </tr>\n",
       "    <tr>\n",
       "      <th>37</th>\n",
       "      <td>2013-06-30</td>\n",
       "      <td>405</td>\n",
       "    </tr>\n",
       "    <tr>\n",
       "      <th>38</th>\n",
       "      <td>2013-03-31</td>\n",
       "      <td>562</td>\n",
       "    </tr>\n",
       "    <tr>\n",
       "      <th>39</th>\n",
       "      <td>2012-12-31</td>\n",
       "      <td>306</td>\n",
       "    </tr>\n",
       "    <tr>\n",
       "      <th>40</th>\n",
       "      <td>2012-09-30</td>\n",
       "      <td>50</td>\n",
       "    </tr>\n",
       "    <tr>\n",
       "      <th>41</th>\n",
       "      <td>2012-06-30</td>\n",
       "      <td>27</td>\n",
       "    </tr>\n",
       "    <tr>\n",
       "      <th>42</th>\n",
       "      <td>2012-03-31</td>\n",
       "      <td>30</td>\n",
       "    </tr>\n",
       "    <tr>\n",
       "      <th>43</th>\n",
       "      <td>2011-12-31</td>\n",
       "      <td>39</td>\n",
       "    </tr>\n",
       "    <tr>\n",
       "      <th>44</th>\n",
       "      <td>2011-09-30</td>\n",
       "      <td>58</td>\n",
       "    </tr>\n",
       "    <tr>\n",
       "      <th>45</th>\n",
       "      <td>2011-06-30</td>\n",
       "      <td>58</td>\n",
       "    </tr>\n",
       "    <tr>\n",
       "      <th>46</th>\n",
       "      <td>2011-03-31</td>\n",
       "      <td>49</td>\n",
       "    </tr>\n",
       "    <tr>\n",
       "      <th>47</th>\n",
       "      <td>2010-12-31</td>\n",
       "      <td>36</td>\n",
       "    </tr>\n",
       "    <tr>\n",
       "      <th>48</th>\n",
       "      <td>2010-09-30</td>\n",
       "      <td>31</td>\n",
       "    </tr>\n",
       "    <tr>\n",
       "      <th>49</th>\n",
       "      <td>2010-06-30</td>\n",
       "      <td>28</td>\n",
       "    </tr>\n",
       "    <tr>\n",
       "      <th>50</th>\n",
       "      <td>2010-03-31</td>\n",
       "      <td>21</td>\n",
       "    </tr>\n",
       "    <tr>\n",
       "      <th>52</th>\n",
       "      <td>2009-09-30</td>\n",
       "      <td>46</td>\n",
       "    </tr>\n",
       "    <tr>\n",
       "      <th>53</th>\n",
       "      <td>2009-06-30</td>\n",
       "      <td>27</td>\n",
       "    </tr>\n",
       "  </tbody>\n",
       "</table>\n",
       "</div>"
      ],
      "text/plain": [
       "         Date  Revenue\n",
       "0  2022-09-30    21454\n",
       "1  2022-06-30    16934\n",
       "2  2022-03-31    18756\n",
       "3  2021-12-31    17719\n",
       "4  2021-09-30    13757\n",
       "5  2021-06-30    11958\n",
       "6  2021-03-31    10389\n",
       "7  2020-12-31    10744\n",
       "8  2020-09-30     8771\n",
       "9  2020-06-30     6036\n",
       "10 2020-03-31     5985\n",
       "11 2019-12-31     7384\n",
       "12 2019-09-30     6303\n",
       "13 2019-06-30     6350\n",
       "14 2019-03-31     4541\n",
       "15 2018-12-31     7226\n",
       "16 2018-09-30     6824\n",
       "17 2018-06-30     4002\n",
       "18 2018-03-31     3409\n",
       "19 2017-12-31     3288\n",
       "20 2017-09-30     2985\n",
       "21 2017-06-30     2790\n",
       "22 2017-03-31     2696\n",
       "23 2016-12-31     2285\n",
       "24 2016-09-30     2298\n",
       "25 2016-06-30     1270\n",
       "26 2016-03-31     1147\n",
       "27 2015-12-31     1214\n",
       "28 2015-09-30      937\n",
       "29 2015-06-30      955\n",
       "30 2015-03-31      940\n",
       "31 2014-12-31      957\n",
       "32 2014-09-30      852\n",
       "33 2014-06-30      769\n",
       "34 2014-03-31      621\n",
       "35 2013-12-31      615\n",
       "36 2013-09-30      431\n",
       "37 2013-06-30      405\n",
       "38 2013-03-31      562\n",
       "39 2012-12-31      306\n",
       "40 2012-09-30       50\n",
       "41 2012-06-30       27\n",
       "42 2012-03-31       30\n",
       "43 2011-12-31       39\n",
       "44 2011-09-30       58\n",
       "45 2011-06-30       58\n",
       "46 2011-03-31       49\n",
       "47 2010-12-31       36\n",
       "48 2010-09-30       31\n",
       "49 2010-06-30       28\n",
       "50 2010-03-31       21\n",
       "52 2009-09-30       46\n",
       "53 2009-06-30       27"
      ]
     },
     "execution_count": 28,
     "metadata": {},
     "output_type": "execute_result"
    }
   ],
   "source": [
    "tesla_revenue1"
   ]
  },
  {
   "cell_type": "markdown",
   "id": "0675205a-68d2-495b-a5f8-6fa475300132",
   "metadata": {},
   "source": [
    "### Tesla Revenue"
   ]
  },
  {
   "cell_type": "code",
   "execution_count": 29,
   "id": "7f8c252a-2111-4172-9aa5-568f8afa4d39",
   "metadata": {},
   "outputs": [
    {
     "data": {
      "text/plain": [
       "<Axes: xlabel='Date'>"
      ]
     },
     "execution_count": 29,
     "metadata": {},
     "output_type": "execute_result"
    },
    {
     "data": {
      "image/png": "[encoded data removed]",
      "text/plain": [
       "<Figure size 640x480 with 1 Axes>"
      ]
     },
     "metadata": {},
     "output_type": "display_data"
    }
   ],
   "source": [
    "tesla_revenue1.plot('Date')"
   ]
  },
  {
   "cell_type": "markdown",
   "id": "43d01a0d-03c4-4dc5-a394-876fc4d36ea3",
   "metadata": {},
   "source": [
    "## 6 - GameStop Stock and Revenue Dashboard"
   ]
  },
  {
   "cell_type": "markdown",
   "id": "e332675f-43c6-4009-8f92-34ed187047ea",
   "metadata": {},
   "source": [
    "### GameStop stock price"
   ]
  },
  {
   "cell_type": "code",
   "execution_count": 37,
   "id": "42945c90-c17f-41ab-9589-07610ab77afb",
   "metadata": {},
   "outputs": [
    {
     "data": {
      "text/plain": [
       "<Axes: xlabel='Date'>"
      ]
     },
     "execution_count": 37,
     "metadata": {},
     "output_type": "execute_result"
    },
    {
     "data": {
      "image/png": "[encoded data removed]",
      "text/plain": [
       "<Figure size 640x480 with 1 Axes>"
      ]
     },
     "metadata": {},
     "output_type": "display_data"
    }
   ],
   "source": [
    "GameStop_data.Close.plot()"
   ]
  },
  {
   "cell_type": "markdown",
   "id": "911b1db6-631e-4a93-99d2-eab81e405beb",
   "metadata": {},
   "source": []
  },
  {
   "cell_type": "markdown",
   "id": "520a0201-45dd-4ba5-a47f-6e9a73fef73e",
   "metadata": {},
   "source": [
    "### GameStop Revenue movemnet"
   ]
  },
  {
   "cell_type": "code",
   "execution_count": null,
   "id": "368cbc28-57ab-4a92-b83c-51cad5054f18",
   "metadata": {},
   "outputs": [],
   "source": [
    "gme_revenue1['Revenue'] = gme_revenue1['Revenue'].str.replace(',', '')\n",
    "gme_revenue1['Revenue'] = gme_revenue1['Revenue'].str.replace('$', '')\n",
    "gme_revenue1['Revenue'] = gme_revenue1['Revenue'].astype(int)\n",
    "gme_revenue1['Date'] = pd.to_datetime(gme_revenue1['Date'], infer_datetime_format=True)"
   ]
  },
  {
   "cell_type": "code",
   "execution_count": 39,
   "id": "cc4f2728-244f-4b8c-9dc5-1956c7198433",
   "metadata": {},
   "outputs": [
    {
     "data": {
      "text/plain": [
       "<Axes: xlabel='Date'>"
      ]
     },
     "execution_count": 39,
     "metadata": {},
     "output_type": "execute_result"
    },
    {
     "data": {
      "image/png": "[encoded data removed]",
      "text/plain": [
       "<Figure size 640x480 with 1 Axes>"
      ]
     },
     "metadata": {},
     "output_type": "display_data"
    }
   ],
   "source": [
    "gme_revenue1.plot('Date')"
   ]
  },
  {
   "cell_type": "code",
   "execution_count": null,
   "id": "e9fd7d7b-9adb-4979-afbd-214a0fdd581f",
   "metadata": {},
   "outputs": [],
   "source": []
  },
  {
   "cell_type": "code",
   "execution_count": null,
   "id": "f5ecdd77-9fe8-46c1-b956-e7043fcd96a5",
   "metadata": {},
   "outputs": [],
   "source": []
  }
 ],
 "metadata": {
  "kernelspec": {
   "display_name": "Python 3 (ipykernel)",
   "language": "python",
   "name": "python3"
  },
  "language_info": {
   "codemirror_mode": {
    "name": "ipython",
    "version": 3
   },
   "file_extension": ".py",
   "mimetype": "text/x-python",
   "name": "python",
   "nbconvert_exporter": "python",
   "pygments_lexer": "ipython3",
   "version": "3.11.7"
  }
 },
 "nbformat": 4,
 "nbformat_minor": 5
}
